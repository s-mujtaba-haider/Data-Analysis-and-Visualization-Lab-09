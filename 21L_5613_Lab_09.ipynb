{
  "nbformat": 4,
  "nbformat_minor": 0,
  "metadata": {
    "colab": {
      "provenance": []
    },
    "kernelspec": {
      "name": "python3",
      "display_name": "Python 3"
    },
    "language_info": {
      "name": "python"
    }
  },
  "cells": [
    {
      "cell_type": "code",
      "source": [
        "# Importing the libraries\n",
        "import numpy as np\n",
        "import pandas as pd\n",
        "import tensorflow as tf\n",
        "from keras.models import Sequential\n",
        "from keras.layers import Conv2D, MaxPooling2D, Flatten, Dense\n",
        "from keras.preprocessing import image\n",
        "from sklearn.model_selection import train_test_split\n",
        "from sklearn.metrics import accuracy_score, classification_report\n",
        "from tensorflow.keras.preprocessing.text import Tokenizer\n",
        "from tensorflow.keras.preprocessing.sequence import pad_sequences\n",
        "from tensorflow.keras.models import Sequential\n",
        "from tensorflow.keras.layers import Embedding, SimpleRNN, Dense"
      ],
      "metadata": {
        "id": "QquBrkcx_SqS"
      },
      "execution_count": null,
      "outputs": []
    },
    {
      "cell_type": "code",
      "source": [
        "# Data Preprocessing\n",
        "dataset = pd.read_csv('Churn_Modelling.csv')"
      ],
      "metadata": {
        "id": "RMpnw7b0_UIR"
      },
      "execution_count": null,
      "outputs": []
    },
    {
      "cell_type": "code",
      "source": [
        "# Label Encoding the \"Gender\" column\n",
        "from sklearn.preprocessing import LabelEncoder\n",
        "label_encoder = LabelEncoder()\n",
        "dataset['Gender'] = label_encoder.fit_transform(dataset['Gender'])"
      ],
      "metadata": {
        "id": "Yo5aFOe1_ZUG"
      },
      "execution_count": null,
      "outputs": []
    },
    {
      "cell_type": "code",
      "source": [
        "# One Hot Encoding the \"Geography\" column\n",
        "dataset = pd.get_dummies(dataset, columns=['Geography'], drop_first=True)"
      ],
      "metadata": {
        "id": "nZ2iV-ww_cix"
      },
      "execution_count": null,
      "outputs": []
    },
    {
      "cell_type": "code",
      "source": [
        "# Splitting the dataset into the Training set and Test set\n",
        "from sklearn.model_selection import train_test_split\n",
        "X = dataset.drop(['Exited', 'RowNumber', 'CustomerId', 'Surname'], axis=1)\n",
        "y = dataset['Exited']\n",
        "X_train, X_test, y_train, y_test = train_test_split(X, y, test_size=0.2, random_state=42)"
      ],
      "metadata": {
        "id": "4FnUbquc_eS3"
      },
      "execution_count": null,
      "outputs": []
    },
    {
      "cell_type": "code",
      "source": [
        "# Part - 1 : ANN (Artificial Neural Network)\n",
        "from sklearn.preprocessing import StandardScaler\n",
        "sc = StandardScaler()\n",
        "X_train = sc.fit_transform(X_train)\n",
        "X_test = sc.transform(X_test)"
      ],
      "metadata": {
        "id": "T6TTas_vHb_q"
      },
      "execution_count": null,
      "outputs": []
    },
    {
      "cell_type": "code",
      "execution_count": null,
      "metadata": {
        "id": "-I8yUw2y5Ses",
        "colab": {
          "base_uri": "https://localhost:8080/"
        },
        "outputId": "786c9a57-e335-4879-9e64-bb1059bb3a7e"
      },
      "outputs": [
        {
          "output_type": "stream",
          "name": "stdout",
          "text": [
            "Epoch 1/100\n",
            "250/250 [==============================] - 1s 2ms/step - loss: 0.5268 - accuracy: 0.7945\n",
            "Epoch 2/100\n",
            "250/250 [==============================] - 1s 3ms/step - loss: 0.4673 - accuracy: 0.7945\n",
            "Epoch 3/100\n",
            "250/250 [==============================] - 1s 2ms/step - loss: 0.4473 - accuracy: 0.7945\n",
            "Epoch 4/100\n",
            "250/250 [==============================] - 1s 3ms/step - loss: 0.4384 - accuracy: 0.8010\n",
            "Epoch 5/100\n",
            "250/250 [==============================] - 1s 3ms/step - loss: 0.4336 - accuracy: 0.8091\n",
            "Epoch 6/100\n",
            "250/250 [==============================] - 1s 3ms/step - loss: 0.4303 - accuracy: 0.8114\n",
            "Epoch 7/100\n",
            "250/250 [==============================] - 1s 3ms/step - loss: 0.4278 - accuracy: 0.8136\n",
            "Epoch 8/100\n",
            "250/250 [==============================] - 1s 3ms/step - loss: 0.4255 - accuracy: 0.8170\n",
            "Epoch 9/100\n",
            "250/250 [==============================] - 1s 3ms/step - loss: 0.4235 - accuracy: 0.8191\n",
            "Epoch 10/100\n",
            "250/250 [==============================] - 1s 3ms/step - loss: 0.4222 - accuracy: 0.8217\n",
            "Epoch 11/100\n",
            "250/250 [==============================] - 1s 3ms/step - loss: 0.4208 - accuracy: 0.8229\n",
            "Epoch 12/100\n",
            "250/250 [==============================] - 1s 2ms/step - loss: 0.4195 - accuracy: 0.8253\n",
            "Epoch 13/100\n",
            "250/250 [==============================] - 1s 3ms/step - loss: 0.4183 - accuracy: 0.8257\n",
            "Epoch 14/100\n",
            "250/250 [==============================] - 0s 2ms/step - loss: 0.4172 - accuracy: 0.8260\n",
            "Epoch 15/100\n",
            "250/250 [==============================] - 0s 2ms/step - loss: 0.4163 - accuracy: 0.8280\n",
            "Epoch 16/100\n",
            "250/250 [==============================] - 0s 2ms/step - loss: 0.4154 - accuracy: 0.8278\n",
            "Epoch 17/100\n",
            "250/250 [==============================] - 0s 2ms/step - loss: 0.4145 - accuracy: 0.8288\n",
            "Epoch 18/100\n",
            "250/250 [==============================] - 0s 2ms/step - loss: 0.4137 - accuracy: 0.8301\n",
            "Epoch 19/100\n",
            "250/250 [==============================] - 0s 2ms/step - loss: 0.4130 - accuracy: 0.8313\n",
            "Epoch 20/100\n",
            "250/250 [==============================] - 0s 2ms/step - loss: 0.4123 - accuracy: 0.8315\n",
            "Epoch 21/100\n",
            "250/250 [==============================] - 0s 2ms/step - loss: 0.4117 - accuracy: 0.8321\n",
            "Epoch 22/100\n",
            "250/250 [==============================] - 0s 2ms/step - loss: 0.4112 - accuracy: 0.8325\n",
            "Epoch 23/100\n",
            "250/250 [==============================] - 0s 2ms/step - loss: 0.4105 - accuracy: 0.8324\n",
            "Epoch 24/100\n",
            "250/250 [==============================] - 0s 2ms/step - loss: 0.4100 - accuracy: 0.8340\n",
            "Epoch 25/100\n",
            "250/250 [==============================] - 1s 3ms/step - loss: 0.4095 - accuracy: 0.8340\n",
            "Epoch 26/100\n",
            "250/250 [==============================] - 1s 3ms/step - loss: 0.4090 - accuracy: 0.8341\n",
            "Epoch 27/100\n",
            "250/250 [==============================] - 1s 2ms/step - loss: 0.4085 - accuracy: 0.8347\n",
            "Epoch 28/100\n",
            "250/250 [==============================] - 1s 2ms/step - loss: 0.4083 - accuracy: 0.8351\n",
            "Epoch 29/100\n",
            "250/250 [==============================] - 1s 3ms/step - loss: 0.4079 - accuracy: 0.8347\n",
            "Epoch 30/100\n",
            "250/250 [==============================] - 1s 2ms/step - loss: 0.4077 - accuracy: 0.8347\n",
            "Epoch 31/100\n",
            "250/250 [==============================] - 1s 2ms/step - loss: 0.4073 - accuracy: 0.8351\n",
            "Epoch 32/100\n",
            "250/250 [==============================] - 1s 2ms/step - loss: 0.4070 - accuracy: 0.8354\n",
            "Epoch 33/100\n",
            "250/250 [==============================] - 1s 4ms/step - loss: 0.4066 - accuracy: 0.8357\n",
            "Epoch 34/100\n",
            "250/250 [==============================] - 1s 4ms/step - loss: 0.4063 - accuracy: 0.8357\n",
            "Epoch 35/100\n",
            "250/250 [==============================] - 1s 4ms/step - loss: 0.4062 - accuracy: 0.8344\n",
            "Epoch 36/100\n",
            "250/250 [==============================] - 1s 4ms/step - loss: 0.4059 - accuracy: 0.8355\n",
            "Epoch 37/100\n",
            "250/250 [==============================] - 1s 4ms/step - loss: 0.4058 - accuracy: 0.8351\n",
            "Epoch 38/100\n",
            "250/250 [==============================] - 1s 3ms/step - loss: 0.4055 - accuracy: 0.8350\n",
            "Epoch 39/100\n",
            "250/250 [==============================] - 0s 2ms/step - loss: 0.4054 - accuracy: 0.8357\n",
            "Epoch 40/100\n",
            "250/250 [==============================] - 0s 2ms/step - loss: 0.4051 - accuracy: 0.8364\n",
            "Epoch 41/100\n",
            "250/250 [==============================] - 0s 2ms/step - loss: 0.4048 - accuracy: 0.8363\n",
            "Epoch 42/100\n",
            "250/250 [==============================] - 0s 2ms/step - loss: 0.4050 - accuracy: 0.8354\n",
            "Epoch 43/100\n",
            "250/250 [==============================] - 0s 2ms/step - loss: 0.4047 - accuracy: 0.8349\n",
            "Epoch 44/100\n",
            "250/250 [==============================] - 0s 2ms/step - loss: 0.4047 - accuracy: 0.8360\n",
            "Epoch 45/100\n",
            "250/250 [==============================] - 0s 2ms/step - loss: 0.4044 - accuracy: 0.8350\n",
            "Epoch 46/100\n",
            "250/250 [==============================] - 0s 2ms/step - loss: 0.4043 - accuracy: 0.8353\n",
            "Epoch 47/100\n",
            "250/250 [==============================] - 0s 2ms/step - loss: 0.4043 - accuracy: 0.8354\n",
            "Epoch 48/100\n",
            "250/250 [==============================] - 0s 2ms/step - loss: 0.4040 - accuracy: 0.8349\n",
            "Epoch 49/100\n",
            "250/250 [==============================] - 1s 2ms/step - loss: 0.4040 - accuracy: 0.8353\n",
            "Epoch 50/100\n",
            "250/250 [==============================] - 1s 3ms/step - loss: 0.4039 - accuracy: 0.8354\n",
            "Epoch 51/100\n",
            "250/250 [==============================] - 1s 3ms/step - loss: 0.4037 - accuracy: 0.8361\n",
            "Epoch 52/100\n",
            "250/250 [==============================] - 1s 3ms/step - loss: 0.4037 - accuracy: 0.8350\n",
            "Epoch 53/100\n",
            "250/250 [==============================] - 1s 3ms/step - loss: 0.4035 - accuracy: 0.8356\n",
            "Epoch 54/100\n",
            "250/250 [==============================] - 1s 3ms/step - loss: 0.4035 - accuracy: 0.8350\n",
            "Epoch 55/100\n",
            "250/250 [==============================] - 1s 3ms/step - loss: 0.4034 - accuracy: 0.8356\n",
            "Epoch 56/100\n",
            "250/250 [==============================] - 1s 6ms/step - loss: 0.4033 - accuracy: 0.8350\n",
            "Epoch 57/100\n",
            "250/250 [==============================] - 1s 5ms/step - loss: 0.4032 - accuracy: 0.8347\n",
            "Epoch 58/100\n",
            "250/250 [==============================] - 1s 4ms/step - loss: 0.4032 - accuracy: 0.8357\n",
            "Epoch 59/100\n",
            "250/250 [==============================] - 1s 3ms/step - loss: 0.4030 - accuracy: 0.8354\n",
            "Epoch 60/100\n",
            "250/250 [==============================] - 0s 2ms/step - loss: 0.4030 - accuracy: 0.8351\n",
            "Epoch 61/100\n",
            "250/250 [==============================] - 0s 2ms/step - loss: 0.4029 - accuracy: 0.8356\n",
            "Epoch 62/100\n",
            "250/250 [==============================] - 0s 2ms/step - loss: 0.4028 - accuracy: 0.8361\n",
            "Epoch 63/100\n",
            "250/250 [==============================] - 0s 2ms/step - loss: 0.4026 - accuracy: 0.8354\n",
            "Epoch 64/100\n",
            "250/250 [==============================] - 0s 2ms/step - loss: 0.4028 - accuracy: 0.8363\n",
            "Epoch 65/100\n",
            "250/250 [==============================] - 1s 2ms/step - loss: 0.4027 - accuracy: 0.8349\n",
            "Epoch 66/100\n",
            "250/250 [==============================] - 1s 3ms/step - loss: 0.4025 - accuracy: 0.8355\n",
            "Epoch 67/100\n",
            "250/250 [==============================] - 1s 3ms/step - loss: 0.4025 - accuracy: 0.8357\n",
            "Epoch 68/100\n",
            "250/250 [==============================] - 1s 3ms/step - loss: 0.4022 - accuracy: 0.8357\n",
            "Epoch 69/100\n",
            "250/250 [==============================] - 1s 3ms/step - loss: 0.4023 - accuracy: 0.8356\n",
            "Epoch 70/100\n",
            "250/250 [==============================] - 1s 2ms/step - loss: 0.4023 - accuracy: 0.8351\n",
            "Epoch 71/100\n",
            "250/250 [==============================] - 1s 3ms/step - loss: 0.4022 - accuracy: 0.8356\n",
            "Epoch 72/100\n",
            "250/250 [==============================] - 1s 2ms/step - loss: 0.4022 - accuracy: 0.8364\n",
            "Epoch 73/100\n",
            "250/250 [==============================] - 1s 3ms/step - loss: 0.4020 - accuracy: 0.8353\n",
            "Epoch 74/100\n",
            "250/250 [==============================] - 1s 3ms/step - loss: 0.4019 - accuracy: 0.8351\n",
            "Epoch 75/100\n",
            "250/250 [==============================] - 1s 3ms/step - loss: 0.4020 - accuracy: 0.8355\n",
            "Epoch 76/100\n",
            "250/250 [==============================] - 1s 3ms/step - loss: 0.4018 - accuracy: 0.8364\n",
            "Epoch 77/100\n",
            "250/250 [==============================] - 1s 4ms/step - loss: 0.4017 - accuracy: 0.8357\n",
            "Epoch 78/100\n",
            "250/250 [==============================] - 1s 5ms/step - loss: 0.4018 - accuracy: 0.8351\n",
            "Epoch 79/100\n",
            "250/250 [==============================] - 1s 5ms/step - loss: 0.4017 - accuracy: 0.8361\n",
            "Epoch 80/100\n",
            "250/250 [==============================] - 1s 4ms/step - loss: 0.4016 - accuracy: 0.8349\n",
            "Epoch 81/100\n",
            "250/250 [==============================] - 1s 3ms/step - loss: 0.4016 - accuracy: 0.8360\n",
            "Epoch 82/100\n",
            "250/250 [==============================] - 0s 2ms/step - loss: 0.4015 - accuracy: 0.8355\n",
            "Epoch 83/100\n",
            "250/250 [==============================] - 0s 2ms/step - loss: 0.4015 - accuracy: 0.8361\n",
            "Epoch 84/100\n",
            "250/250 [==============================] - 0s 2ms/step - loss: 0.4015 - accuracy: 0.8345\n",
            "Epoch 85/100\n",
            "250/250 [==============================] - 0s 2ms/step - loss: 0.4014 - accuracy: 0.8359\n",
            "Epoch 86/100\n",
            "250/250 [==============================] - 0s 2ms/step - loss: 0.4012 - accuracy: 0.8349\n",
            "Epoch 87/100\n",
            "250/250 [==============================] - 0s 2ms/step - loss: 0.4013 - accuracy: 0.8369\n",
            "Epoch 88/100\n",
            "250/250 [==============================] - 0s 2ms/step - loss: 0.4013 - accuracy: 0.8360\n",
            "Epoch 89/100\n",
            "250/250 [==============================] - 1s 2ms/step - loss: 0.4010 - accuracy: 0.8353\n",
            "Epoch 90/100\n",
            "250/250 [==============================] - 1s 3ms/step - loss: 0.4011 - accuracy: 0.8360\n",
            "Epoch 91/100\n",
            "250/250 [==============================] - 1s 2ms/step - loss: 0.4011 - accuracy: 0.8364\n",
            "Epoch 92/100\n",
            "250/250 [==============================] - 1s 2ms/step - loss: 0.4011 - accuracy: 0.8359\n",
            "Epoch 93/100\n",
            "250/250 [==============================] - 1s 3ms/step - loss: 0.4011 - accuracy: 0.8359\n",
            "Epoch 94/100\n",
            "250/250 [==============================] - 1s 2ms/step - loss: 0.4009 - accuracy: 0.8359\n",
            "Epoch 95/100\n",
            "250/250 [==============================] - 1s 2ms/step - loss: 0.4010 - accuracy: 0.8366\n",
            "Epoch 96/100\n",
            "250/250 [==============================] - 1s 2ms/step - loss: 0.4009 - accuracy: 0.8361\n",
            "Epoch 97/100\n",
            "250/250 [==============================] - 1s 3ms/step - loss: 0.4009 - accuracy: 0.8357\n",
            "Epoch 98/100\n",
            "250/250 [==============================] - 1s 2ms/step - loss: 0.4008 - accuracy: 0.8366\n",
            "Epoch 99/100\n",
            "250/250 [==============================] - 1s 4ms/step - loss: 0.4008 - accuracy: 0.8357\n",
            "Epoch 100/100\n",
            "250/250 [==============================] - 1s 4ms/step - loss: 0.4009 - accuracy: 0.8365\n",
            "1/1 [==============================] - 0s 48ms/step\n",
            "Therefore, our ANN model predicts that this customer will leave the bank!\n",
            "37/63 [================>.............] - ETA: 0s"
          ]
        },
        {
          "output_type": "stream",
          "name": "stderr",
          "text": [
            "/usr/local/lib/python3.10/dist-packages/sklearn/base.py:439: UserWarning: X does not have valid feature names, but StandardScaler was fitted with feature names\n",
            "  warnings.warn(\n"
          ]
        },
        {
          "output_type": "stream",
          "name": "stdout",
          "text": [
            "\b\b\b\b\b\b\b\b\b\b\b\b\b\b\b\b\b\b\b\b\b\b\b\b\b\b\b\b\b\b\b\b\b\b\b\b\b\b\b\b\b\b\b\b\b\b\b\b\r63/63 [==============================] - 0s 1ms/step\n"
          ]
        }
      ],
      "source": [
        "ann = tf.keras.models.Sequential()\n",
        "\n",
        "ann.add(tf.keras.layers.Dense(units=6, activation='relu', input_dim=X_train.shape[1]))\n",
        "\n",
        "ann.add(tf.keras.layers.Dense(units=1, activation='sigmoid'))\n",
        "\n",
        "ann.compile(optimizer='adam', loss='binary_crossentropy', metrics=['accuracy'])\n",
        "\n",
        "ann.fit(X_train, y_train, batch_size=32, epochs=100)\n",
        "\n",
        "# Making the predictions and evaluating the model\n",
        "new_data = np.array([[0, 600, 1, 40, 3, 60000, 2, 1, 1, 1, 50000]])\n",
        "scaled_new_data = sc.transform(new_data)\n",
        "prediction = ann.predict(scaled_new_data)\n",
        "\n",
        "# Output the result\n",
        "if prediction > 0.5:\n",
        "    print(\"Therefore, our ANN model predicts that this customer stays in the bank!\")\n",
        "else:\n",
        "    print(\"Therefore, our ANN model predicts that this customer will leave the bank!\")\n",
        "\n",
        "# Predicting the Test set results\n",
        "y_pred = (ann.predict(X_test) > 0.5)"
      ]
    },
    {
      "cell_type": "code",
      "source": [
        "# Making the Confusion Matrix\n",
        "from sklearn.metrics import confusion_matrix\n",
        "cm = confusion_matrix(y_test, y_pred)\n",
        "print(\"Confusion Matrix:\")\n",
        "print(cm)"
      ],
      "metadata": {
        "colab": {
          "base_uri": "https://localhost:8080/"
        },
        "id": "iXqXSXnkIkCq",
        "outputId": "1e7e4d6b-d6f9-4785-d738-73a0fba5c780"
      },
      "execution_count": null,
      "outputs": [
        {
          "output_type": "stream",
          "name": "stdout",
          "text": [
            "Confusion Matrix:\n",
            "[[1557   50]\n",
            " [ 273  120]]\n"
          ]
        }
      ]
    },
    {
      "cell_type": "code",
      "source": [
        "y_pred = (ann.predict(X_test) > 0.5)\n",
        "y_pred = y_pred.astype(int)\n",
        "\n",
        "accuracy = accuracy_score(y_test, y_pred)\n",
        "\n",
        "print(f'\\nModel Accuracy: {accuracy * 100:.2f} %')\n",
        "\n",
        "classification_rep = classification_report(y_test, y_pred)\n",
        "\n",
        "print(\"\\nClassification Report:\")\n",
        "print(classification_rep)"
      ],
      "metadata": {
        "colab": {
          "base_uri": "https://localhost:8080/"
        },
        "id": "7kJW6nUrUls2",
        "outputId": "76e9110c-ca70-422e-c8b3-bc5eca5ddf93"
      },
      "execution_count": null,
      "outputs": [
        {
          "output_type": "stream",
          "name": "stdout",
          "text": [
            "63/63 [==============================] - 0s 2ms/step\n",
            "\n",
            "Model Accuracy: 83.85 %\n",
            "\n",
            "Classification Report:\n",
            "              precision    recall  f1-score   support\n",
            "\n",
            "           0       0.85      0.97      0.91      1607\n",
            "           1       0.71      0.31      0.43       393\n",
            "\n",
            "    accuracy                           0.84      2000\n",
            "   macro avg       0.78      0.64      0.67      2000\n",
            "weighted avg       0.82      0.84      0.81      2000\n",
            "\n"
          ]
        }
      ]
    },
    {
      "cell_type": "code",
      "source": [
        "# Part - 2 : CNN (Convolutional Neural Network)\n",
        "cnn = Sequential()\n",
        "\n",
        "cnn.add(Conv2D(32, (3, 3), input_shape=(64, 64, 3), activation='relu'))\n",
        "\n",
        "cnn.add(MaxPooling2D(pool_size=(2, 2)))\n",
        "\n",
        "cnn.add(Conv2D(32, (3, 3), activation='relu'))\n",
        "cnn.add(MaxPooling2D(pool_size=(2, 2)))\n",
        "\n",
        "cnn.add(Flatten())\n",
        "\n",
        "cnn.add(Dense(units=128, activation='relu'))\n",
        "\n",
        "cnn.add(Dense(units=1, activation='sigmoid'))"
      ],
      "metadata": {
        "id": "CDGWeJdcJJ44"
      },
      "execution_count": null,
      "outputs": []
    },
    {
      "cell_type": "code",
      "source": [
        "# Compiling the CNN\n",
        "cnn.compile(optimizer='adam', loss='binary_crossentropy', metrics=['accuracy'])\n",
        "\n",
        "# Load and preprocess a single image for prediction\n",
        "test_image = image.load_img('cat_or_dog_1.jpg', target_size = (64, 64))\n",
        "test_image = image.img_to_array(test_image)\n",
        "test_image = np.expand_dims(test_image, axis=0)\n",
        "\n",
        "# Make a prediction\n",
        "result = cnn.predict(test_image)"
      ],
      "metadata": {
        "colab": {
          "base_uri": "https://localhost:8080/"
        },
        "id": "1K6qgdqK_Q8t",
        "outputId": "8e86a189-5ae7-43bd-8c61-12f65fec798e"
      },
      "execution_count": null,
      "outputs": [
        {
          "output_type": "stream",
          "name": "stdout",
          "text": [
            "1/1 [==============================] - 0s 76ms/step\n"
          ]
        }
      ]
    },
    {
      "cell_type": "code",
      "source": [
        "# Output the result\n",
        "if result[0][0] == 1:\n",
        "  prediction = 'cat'\n",
        "else:\n",
        "  prediction = 'dog'\n",
        "\n",
        "print(prediction)"
      ],
      "metadata": {
        "colab": {
          "base_uri": "https://localhost:8080/"
        },
        "id": "hRtIdKzmJSZq",
        "outputId": "883693f8-a747-44b3-9d51-16976bb396db"
      },
      "execution_count": null,
      "outputs": [
        {
          "output_type": "stream",
          "name": "stdout",
          "text": [
            "dog\n"
          ]
        }
      ]
    },
    {
      "cell_type": "code",
      "source": [
        "# Load and preprocess a single image for prediction\n",
        "test_image = image.load_img('cat_or_dog_2.jpg', target_size = (64, 64))\n",
        "test_image = image.img_to_array(test_image)\n",
        "test_image = np.expand_dims(test_image, axis=0)\n",
        "\n",
        "# Make a prediction\n",
        "result = cnn.predict(test_image)"
      ],
      "metadata": {
        "colab": {
          "base_uri": "https://localhost:8080/"
        },
        "id": "v_yP_fyiTShj",
        "outputId": "6805ba64-1259-4461-b932-fb495f844b88"
      },
      "execution_count": null,
      "outputs": [
        {
          "output_type": "stream",
          "name": "stdout",
          "text": [
            "1/1 [==============================] - 0s 76ms/step\n"
          ]
        }
      ]
    },
    {
      "cell_type": "code",
      "source": [
        "# Output the result\n",
        "if result[0][0] == 1:\n",
        "  prediction = 'cat'\n",
        "else:\n",
        "  prediction = 'dog'\n",
        "\n",
        "print(prediction)"
      ],
      "metadata": {
        "colab": {
          "base_uri": "https://localhost:8080/"
        },
        "id": "Pyd0fZ8NTUxj",
        "outputId": "65416bc5-6e2f-4d1e-eff4-c162d63c3e8a"
      },
      "execution_count": null,
      "outputs": [
        {
          "output_type": "stream",
          "name": "stdout",
          "text": [
            "cat\n"
          ]
        }
      ]
    },
    {
      "cell_type": "code",
      "source": [
        "# Task - 3 : RNN (Recurrent Neural  Network)\n",
        "dataset = pd.read_csv('Churn_Modelling.csv')"
      ],
      "metadata": {
        "id": "H5W2saY_GzEC"
      },
      "execution_count": null,
      "outputs": []
    },
    {
      "cell_type": "code",
      "source": [
        "# Tokenize Text\n",
        "sentences = dataset['Surname'].values\n",
        "tokenizer = Tokenizer()\n",
        "tokenizer.fit_on_texts(sentences)\n",
        "total_words = len(tokenizer.word_index) + 1"
      ],
      "metadata": {
        "id": "HQc2VlKrG4HJ"
      },
      "execution_count": null,
      "outputs": []
    },
    {
      "cell_type": "code",
      "source": [
        "# Convert text to sequences\n",
        "sequences = tokenizer.texts_to_sequences(sentences)\n",
        "\n",
        "X = []\n",
        "y = []\n",
        "for i in range(len(sequences)):\n",
        "    for j in range(1, len(sequences[i])):\n",
        "        X.append(sequences[i][:j])\n",
        "        y.append(dataset['Exited'].iloc[i])\n",
        "\n",
        "X = pad_sequences(X)\n",
        "\n",
        "X_train, X_test, y_train, y_test = train_test_split(X, y, test_size=0.2, random_state=42)\n",
        "\n",
        "word_dim = 50\n",
        "hidden_dim = 100\n",
        "output_dim = 1\n",
        "bptt_truncate = 4\n",
        "\n",
        "model = Sequential()\n",
        "model.add(Embedding(total_words, word_dim, input_length=X.shape[1]))\n",
        "model.add(SimpleRNN(hidden_dim, activation='sigmoid'))\n",
        "model.add(Dense(output_dim, activation='sigmoid'))\n",
        "\n",
        "model.compile(optimizer='adam', loss='binary_crossentropy', metrics=['accuracy'])"
      ],
      "metadata": {
        "id": "ym9OvaStDh--"
      },
      "execution_count": null,
      "outputs": []
    },
    {
      "cell_type": "code",
      "source": [
        "y_train = np.array(y_train).reshape(-1, 1)\n",
        "y_test = np.array(y_test).reshape(-1, 1)\n",
        "\n",
        "model.fit(X_train, y_train, epochs=5, batch_size=32, validation_data=(X_test, y_test))\n",
        "\n",
        "loss, accuracy = model.evaluate(X_test, y_test)\n",
        "print(f\"Test Loss: {loss}, Test Accuracy: {accuracy}\")"
      ],
      "metadata": {
        "colab": {
          "base_uri": "https://localhost:8080/"
        },
        "id": "cUlZF3i6HCcC",
        "outputId": "92bc46c4-9a28-4dcc-80d5-c3bdde605dbe"
      },
      "execution_count": null,
      "outputs": [
        {
          "output_type": "stream",
          "name": "stdout",
          "text": [
            "Epoch 1/5\n",
            "3/3 [==============================] - 2s 151ms/step - loss: 0.8606 - accuracy: 0.2533 - val_loss: 0.7275 - val_accuracy: 0.2105\n",
            "Epoch 2/5\n",
            "3/3 [==============================] - 0s 20ms/step - loss: 0.6991 - accuracy: 0.5067 - val_loss: 0.6025 - val_accuracy: 0.7895\n",
            "Epoch 3/5\n",
            "3/3 [==============================] - 0s 20ms/step - loss: 0.6049 - accuracy: 0.7467 - val_loss: 0.5417 - val_accuracy: 0.7895\n",
            "Epoch 4/5\n",
            "3/3 [==============================] - 0s 20ms/step - loss: 0.5708 - accuracy: 0.7467 - val_loss: 0.5188 - val_accuracy: 0.7895\n",
            "Epoch 5/5\n",
            "3/3 [==============================] - 0s 21ms/step - loss: 0.5643 - accuracy: 0.7467 - val_loss: 0.5152 - val_accuracy: 0.7895\n",
            "1/1 [==============================] - 0s 28ms/step - loss: 0.5152 - accuracy: 0.7895\n",
            "Test Loss: 0.5151658058166504, Test Accuracy: 0.7894737124443054\n"
          ]
        }
      ]
    }
  ]
}